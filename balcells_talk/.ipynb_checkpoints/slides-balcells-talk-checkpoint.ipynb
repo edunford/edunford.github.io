{
 "cells": [
  {
   "cell_type": "markdown",
   "metadata": {
    "slideshow": {
     "slide_type": "slide"
    }
   },
   "source": [
    "# <center> Conflict Event Data </center> \n",
    "**<center> Eric Dunford </center>**\n",
    "<br> \n",
    "_<center> McCourt School of Public Policy <br> Georgetown University </center>_"
   ]
  },
  {
   "cell_type": "markdown",
   "metadata": {
    "slideshow": {
     "slide_type": "slide"
    }
   },
   "source": [
    "#### <center> Proportion of Violent Activity by Country-Year for all African States </center>\n",
    "![](Figures/prop_activity_by_country_year.jpg)"
   ]
  },
  {
   "cell_type": "markdown",
   "metadata": {
    "slideshow": {
     "slide_type": "slide"
    }
   },
   "source": [
    "![](Figures/data-disaggregation.jpg)"
   ]
  },
  {
   "cell_type": "markdown",
   "metadata": {
    "slideshow": {
     "slide_type": "slide"
    }
   },
   "source": [
    "# Event History Data\n",
    "\n",
    "- **Temporally and geographically disaggregated**\n",
    "    - Often daily data of event occurrences\n",
    "    - Episodes vs. Events vs. Entries\n",
    "    - Precise vs. Imprecise geo-codes\n",
    "- **Data based from media accounts**\n",
    "    - International vs. Local media affects the picture\n",
    "    - Potential reporting bias (Weidmann 2015/2016) \n",
    "- **Human vs. Machine Coding**"
   ]
  },
  {
   "cell_type": "markdown",
   "metadata": {
    "slideshow": {
     "slide_type": "slide"
    }
   },
   "source": [
    "![](Figures/dataset_breakdown.jpg)"
   ]
  },
  {
   "cell_type": "markdown",
   "metadata": {
    "slideshow": {
     "slide_type": "slide"
    }
   },
   "source": [
    "![](Figures/activity_for_all_datasets_by_month.jpg)"
   ]
  },
  {
   "cell_type": "markdown",
   "metadata": {
    "slideshow": {
     "slide_type": "slide"
    }
   },
   "source": [
    "![](Figures/location-to-type-alluvial.jpg)"
   ]
  },
  {
   "cell_type": "markdown",
   "metadata": {
    "slideshow": {
     "slide_type": "slide"
    }
   },
   "source": [
    "![](Figures/event_type_activity_by_dataset.jpg)"
   ]
  },
  {
   "cell_type": "markdown",
   "metadata": {
    "slideshow": {
     "slide_type": "slide"
    }
   },
   "source": [
    "# <center> Data Integration </center>"
   ]
  },
  {
   "cell_type": "markdown",
   "metadata": {
    "slideshow": {
     "slide_type": "slide"
    }
   },
   "source": [
    "![](Figures/using_multiple_datasets.jpg)"
   ]
  },
  {
   "cell_type": "markdown",
   "metadata": {
    "slideshow": {
     "slide_type": "slide"
    }
   },
   "source": [
    "### Opportunities\n",
    "\n",
    "- Ask more involved questions\n",
    "    + How is protests leveraged during civil war?\n",
    "    + How does trends in terrorism effect protest turn out?\n",
    "- Triangulate data to increase reliability\n",
    "- Estimate the potential universe of missing entries (MSE)"
   ]
  },
  {
   "cell_type": "markdown",
   "metadata": {
    "slideshow": {
     "slide_type": "slide"
    }
   },
   "source": [
    "## Challenges\n",
    "\n",
    "- Time consuming\n",
    "- Data is constantly updated\n",
    "- Transparency in both process and assumptions\n",
    "- Replication"
   ]
  },
  {
   "cell_type": "markdown",
   "metadata": {
    "slideshow": {
     "slide_type": "slide"
    }
   },
   "source": [
    "## Meltt Approach\n",
    "\n",
    "![](Figures/meltt_approach.jpg)\n",
    "\n",
    "R Package `meltt`"
   ]
  },
  {
   "cell_type": "markdown",
   "metadata": {
    "slideshow": {
     "slide_type": "slide"
    }
   },
   "source": [
    "## Nigeria 2011\n",
    "![](Figures/nigeria-2011-integration.jpg)"
   ]
  },
  {
   "cell_type": "markdown",
   "metadata": {
    "slideshow": {
     "slide_type": "slide"
    }
   },
   "source": [
    "![](Figures/activity_for_all_datasets_by_month_duplicates_flagged.jpg)"
   ]
  },
  {
   "cell_type": "markdown",
   "metadata": {
    "slideshow": {
     "slide_type": "slide"
    }
   },
   "source": [
    "# <center> Application </center> \n",
    "\n",
    "### <center> Examining Tactical adaptation and innovation by Boko Haram in Nigeria <center>"
   ]
  },
  {
   "cell_type": "markdown",
   "metadata": {
    "slideshow": {
     "slide_type": "slide"
    }
   },
   "source": [
    "### Boko Haram: targets and tactics (2009 - 2016)\n",
    "![](Figures/BH-active-features-over-time.jpg)"
   ]
  },
  {
   "cell_type": "markdown",
   "metadata": {
    "slideshow": {
     "slide_type": "slide"
    }
   },
   "source": [
    "### Tactical Mixing and Innovation\n",
    "\n",
    "![](Figures/A_and_B_BH-active-novel-profiles-over-time.jpg)"
   ]
  },
  {
   "cell_type": "markdown",
   "metadata": {
    "slideshow": {
     "slide_type": "slide"
    }
   },
   "source": [
    "### Tactical Mixing and Innovation\n",
    "\n",
    "![](Figures/C_BH-active-novel-profiles-over-time.jpg)"
   ]
  },
  {
   "cell_type": "markdown",
   "metadata": {
    "slideshow": {
     "slide_type": "slide"
    }
   },
   "source": [
    "\n",
    "![](Figures/fig_boko_haram_tactical-repertoires.jpg)"
   ]
  }
 ],
 "metadata": {
  "celltoolbar": "Slideshow",
  "kernelspec": {
   "display_name": "Python 3",
   "language": "python",
   "name": "python3"
  },
  "language_info": {
   "codemirror_mode": {
    "name": "ipython",
    "version": 3
   },
   "file_extension": ".py",
   "mimetype": "text/x-python",
   "name": "python",
   "nbconvert_exporter": "python",
   "pygments_lexer": "ipython3",
   "version": "3.7.0"
  },
  "toc": {
   "base_numbering": 1,
   "nav_menu": {},
   "number_sections": false,
   "sideBar": false,
   "skip_h1_title": false,
   "title_cell": "Table of Contents",
   "title_sidebar": "Contents",
   "toc_cell": false,
   "toc_position": {},
   "toc_section_display": true,
   "toc_window_display": false
  }
 },
 "nbformat": 4,
 "nbformat_minor": 2
}
